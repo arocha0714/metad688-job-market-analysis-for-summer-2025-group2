{
  "cells": [
    {
      "cell_type": "markdown",
      "metadata": {},
      "source": [
        "---\n",
        "title: Geographic Analysis\n",
        "---\n",
        "\n",
        "# Introduction\n",
        "\n",
        "bla balal\n"
      ]
    },
    {
      "cell_type": "code",
      "metadata": {},
      "source": [
        "x=1\n",
        "y=2\n",
        "z=x+y\n",
        "\n",
        "print(x,y,z)"
      ],
      "execution_count": null,
      "outputs": []
    }
  ],
  "metadata": {
    "kernelspec": {
      "name": "python3",
      "language": "python",
      "display_name": "Python 3 (ipykernel)",
      "path": "/home/ubuntu/metad688-job-market-analysis-for-summer-2025-group2/.venv/share/jupyter/kernels/python3"
    }
  },
  "nbformat": 4,
  "nbformat_minor": 4
}