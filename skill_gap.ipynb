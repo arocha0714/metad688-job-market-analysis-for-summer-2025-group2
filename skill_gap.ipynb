{
 "cells": [
  {
   "cell_type": "code",
   "execution_count": null,
   "id": "5e3bad82",
   "metadata": {},
   "outputs": [],
   "source": [
    "\n",
    "from pyspark.sql import SparkSession\n",
    "import pandas as pd\n",
    "import plotly.express as px\n",
    "import plotly.io as pio\n",
    "import numpy as np\n",
    "\n",
    "np.random.seed(42)\n",
    "\n",
    "pio.renderers.default = \"notebook\"\n",
    "\n",
    "# Initialize Spark Session\n",
    "spark = SparkSession.builder.appName(\"LightcastData\").getOrCreate()\n",
    "\n",
    "# Load Data\n",
    "df = spark.read.option(\"header\", \"true\").option(\"inferSchema\", \"true\").option(\"multiLine\",\"true\").option(\"escape\", \"\\\"\").csv(\"./data/lightcast_job_postings.csv\")\n",
    "\n",
    "# Show Schema and Sample Data\n",
    "print(\"---This is Diagnostic check, No need to print it in the final doc---\")\n",
    "\n",
    "df.printSchema() # comment this line when rendering the submission\n",
    "df.show(5)"
   ]
  },
  {
   "cell_type": "code",
   "execution_count": null,
   "id": "11773fb6",
   "metadata": {},
   "outputs": [],
   "source": [
    "from pyspark.sql import SparkSession\n",
    "\n",
    "df.createOrReplaceTempView(\"jobs\")"
   ]
  },
  {
   "cell_type": "code",
   "execution_count": null,
   "id": "78b4128f",
   "metadata": {},
   "outputs": [],
   "source": [
    "skill_counts_by_type = spark.sql(\"\"\"\n",
    "    SELECT software_skills_name, COUNT(*) AS count\n",
    "    FROM jobs\n",
    "    WHERE LOWER(title_name) LIKE '%analyst%'\n",
    "    GROUP BY software_skills_name\n",
    "    ORDER BY count DESC\n",
    "    LIMIT 10\n",
    "\"\"\")\n",
    "skill_counts_by_type.show(truncate=False)"
   ]
  },
  {
   "cell_type": "code",
   "execution_count": null,
   "id": "a2a70d07",
   "metadata": {},
   "outputs": [],
   "source": [
    "skill_counts_by_type = spark.sql(\"\"\"\n",
    "    SELECT skills_name, COUNT(*) AS count\n",
    "    FROM jobs\n",
    "    WHERE LOWER(title_name) LIKE '%analyst%'\n",
    "    GROUP BY skills_name\n",
    "    ORDER BY count DESC\n",
    "    LIMIT 10\n",
    "\"\"\")\n",
    "skill_counts_by_type.show(truncate=False)"
   ]
  },
  {
   "cell_type": "code",
   "execution_count": null,
   "id": "13ebe2db",
   "metadata": {},
   "outputs": [],
   "source": [
    "import pandas as pd\n",
    "\n",
    "skills_data = {\n",
    "    \"Name\": [\"Alysaa\", \"Adam\", \"Yihan\"],\n",
    "    \"Python\": [5, 3, 4, 2],\n",
    "    \"SQL\": [4, 2, 5, 3],\n",
    "    \"Machine Learning\": [3, 1, 4, 2],\n",
    "    \"Cloud Computing\": [2, 2, 3, 1]\n",
    "}\n",
    "\n",
    "df_skills = pd.DataFrame(skills_data)\n",
    "df_skills.set_index(\"Name\", inplace=True)\n",
    "df_skills"
   ]
  },
  {
   "cell_type": "code",
   "execution_count": null,
   "id": "f9cc2659",
   "metadata": {},
   "outputs": [],
   "source": [
    "import seaborn as sns\n",
    "import matplotlib.pyplot as plt\n",
    "from matplotlib.colors import LinearSegmentedColormap\n",
    "\n",
    "# Define a custom minty color gradient\n",
    "minty_colors = [\"#e0f8f1\", \"#a0eec0\", \"#4fd2a1\", \"#1aab89\"]\n",
    "minty_cmap = LinearSegmentedColormap.from_list(\"minty\", minty_colors)\n",
    "\n",
    "# Create the heatmap\n",
    "plt.figure(figsize=(8, 6))\n",
    "sns.heatmap(df_skills, annot=True, cmap=minty_cmap, linewidths=0.5)\n",
    "plt.title(\"Team Skill Levels Heatmap\")\n",
    "plt.show()"
   ]
  }
 ],
 "metadata": {
  "language_info": {
   "name": "python"
  }
 },
 "nbformat": 4,
 "nbformat_minor": 5
}
